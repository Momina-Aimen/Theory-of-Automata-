{
  "nbformat": 4,
  "nbformat_minor": 0,
  "metadata": {
    "colab": {
      "provenance": []
    },
    "kernelspec": {
      "name": "python3",
      "display_name": "Python 3"
    },
    "language_info": {
      "name": "python"
    }
  },
  "cells": [
    {
      "cell_type": "code",
      "execution_count": null,
      "metadata": {
        "id": "Z5cVptrueRcW"
      },
      "outputs": [],
      "source": [
        "class Task2:\n",
        "    def __init__(self,states,inputs,string_in,final_state):\n",
        "        self.states=states\n",
        "        self.inputs=inputs\n",
        "        self.string_in=string_in\n",
        "        self.final_state=final_state\n",
        "        self.in_=False\n",
        "        self.state=0\n",
        "        for i in self.string_in:\n",
        "            if i in self.inputs:\n",
        "                self.in_=True\n",
        "            else:\n",
        "                self.in_=False\n",
        "                print(\"This word is invalid For language-->\",i)\n",
        "    def starting(self):\n",
        "        if self.in_ == True:\n",
        "            for i in self.string_in:\n",
        "                i=int(i)\n",
        "                if self.state == 0:\n",
        "                    print(f\"---{i}--->Q1\")\n",
        "                    self.state=self.Q0(i)\n",
        "                elif self.state == 1:\n",
        "                    print(f\"---{i}--->Q1\")\n",
        "                    self.state=self.Q1(i)\n",
        "                elif self.state == 2:\n",
        "                    print(f\"---{i}--->Q2\")\n",
        "                    self.state=self.Q2(i)\n",
        "                elif self.state == 3:\n",
        "                    print(f\"---{i}--->Q3\")\n",
        "                    self.state=self.Q3(i)\n",
        "                elif self.state == 4:\n",
        "                    print(f\"---{i}--->Q4\")\n",
        "                    self.state=self.Q4(i)\n",
        "            if self.state == 2 or self.state == 4 :\n",
        "                print(\"Valide\")\n",
        "            else :\n",
        "                print(\"Invalid\") \n",
        "        else:\n",
        "            pass\n",
        "    def Q0(self,word):\n",
        "        if word == 0:\n",
        "            return 3\n",
        "        if word == 1:\n",
        "            return 1\n",
        "    def Q1(self,word):\n",
        "        if word == 0:\n",
        "            return 1\n",
        "        if word == 1:\n",
        "            return 2\n",
        "    def Q2(self,word):\n",
        "        if word == 0:\n",
        "            return 2\n",
        "        if word == 1:\n",
        "            return 2\n",
        "    def Q3(self,word):\n",
        "        if word == 0:\n",
        "            return 4\n",
        "        if word == 1:\n",
        "            return 3\n",
        "    def Q4(self,word):\n",
        "        if word == 0:\n",
        "            return 4\n",
        "        if word == 1:\n",
        "            return 4\n",
        "states=['Q0','Q1','Q2','Q3','Q4']\n",
        "inputs=['0','1']\n",
        "string_in=input(\"Enter Your input String: \")\n",
        "final_state=['Q4','Q2']\n",
        "obj=Task2(states,inputs,string_in,final_state)\n",
        "obj.starting()"
      ]
    }
  ]
}